{
  "nbformat": 4,
  "nbformat_minor": 0,
  "metadata": {
    "colab": {
      "provenance": [],
      "authorship_tag": "ABX9TyPtkfbYwLz9rQDzWWJelo3r",
      "include_colab_link": true
    },
    "kernelspec": {
      "name": "python3",
      "display_name": "Python 3"
    },
    "language_info": {
      "name": "python"
    }
  },
  "cells": [
    {
      "cell_type": "markdown",
      "metadata": {
        "id": "view-in-github",
        "colab_type": "text"
      },
      "source": [
        "<a href=\"https://colab.research.google.com/github/hectorcamachoz/Regresion_lineal_multivariable/blob/main/A1_3_594557.ipynb\" target=\"_parent\"><img src=\"https://colab.research.google.com/assets/colab-badge.svg\" alt=\"Open In Colab\"/></a>"
      ]
    },
    {
      "cell_type": "markdown",
      "source": [
        "# Tarea 1.3 Regresion lineal multiple\n",
        "**1.** Importare los datos de la base de datos NASA.csv he imprimiere en consola las primer 15 lineas de datos, junto con el tamaño del dataframe"
      ],
      "metadata": {
        "id": "h6nc4IxEidoH"
      }
    },
    {
      "cell_type": "code",
      "execution_count": 47,
      "metadata": {
        "colab": {
          "base_uri": "https://localhost:8080/"
        },
        "id": "sFNgSGQ5h0rX",
        "outputId": "94f55caa-8b82-4d34-d277-00e5768a5d09"
      },
      "outputs": [
        {
          "output_type": "stream",
          "name": "stdout",
          "text": [
            "(1503, 6)\n",
            "    frecuencia  angulo  longitud  velocidad   espesor  presion\n",
            "0          800     0.0    0.3048       71.3  0.002663  126.201\n",
            "1         1000     0.0    0.3048       71.3  0.002663  125.201\n",
            "2         1250     0.0    0.3048       71.3  0.002663  125.951\n",
            "3         1600     0.0    0.3048       71.3  0.002663  127.591\n",
            "4         2000     0.0    0.3048       71.3  0.002663  127.461\n",
            "5         2500     0.0    0.3048       71.3  0.002663  125.571\n",
            "6         3150     0.0    0.3048       71.3  0.002663  125.201\n",
            "7         4000     0.0    0.3048       71.3  0.002663  123.061\n",
            "8         5000     0.0    0.3048       71.3  0.002663  121.301\n",
            "9         6300     0.0    0.3048       71.3  0.002663  119.541\n",
            "10        8000     0.0    0.3048       71.3  0.002663  117.151\n",
            "11       10000     0.0    0.3048       71.3  0.002663  115.391\n",
            "12       12500     0.0    0.3048       71.3  0.002663  112.241\n",
            "13       16000     0.0    0.3048       71.3  0.002663  108.721\n",
            "14         500     0.0    0.3048       55.5  0.002831  126.416\n"
          ]
        }
      ],
      "source": [
        "import pandas as pd\n",
        "from sklearn.model_selection import train_test_split\n",
        "import statsmodels.api as sm\n",
        "import numpy as np\n",
        "\n",
        "df = pd.read_csv('NASA.csv')\n",
        "print(df.shape)\n",
        "print(df.head(15))"
      ]
    },
    {
      "cell_type": "markdown",
      "source": [
        "**2.** Como segundo paso, en el siguiente bloque de codigo, se separara el dataframe en partes el 70 por ciento de los datos, se usaran para el modelo y el 30 para validar sus resultados. Es importante recalcar, que se separaran de forma aleatoria. Se utilizara la funcion train_test_split, de la libreria sklearn.model_selection"
      ],
      "metadata": {
        "id": "WRiBxHfnkZLB"
      }
    },
    {
      "cell_type": "code",
      "source": [
        "# Para utilizar train_test_split() se importa de sklearn.model_selection\n",
        "train, test = train_test_split(df, train_size=0.7)\n",
        "print(train.shape)\n",
        "print(test.shape)\n",
        "print(train.shape[0] , '+', test.shape[0] ,'=', int(train.shape[0]) + int(test.shape[0]))"
      ],
      "metadata": {
        "colab": {
          "base_uri": "https://localhost:8080/"
        },
        "id": "9ZrbH9RtkY6u",
        "outputId": "e50d31c6-11f1-4fa4-e5c7-c92b1d25396c"
      },
      "execution_count": 26,
      "outputs": [
        {
          "output_type": "stream",
          "name": "stdout",
          "text": [
            "(1052, 6)\n",
            "(451, 6)\n",
            "1052 + 451 = 1503\n"
          ]
        }
      ]
    },
    {
      "cell_type": "markdown",
      "source": [
        "Podemos observar que la separacion de la base de datos fue exitosa, ya que la suma de ambas observaciones, da el total de observaciones de nuestra base de datos.\n",
        "\n",
        "**3.** Con la separacion de la base de datos llamada train, se creara un modelo de regresion lineal multivariable, para poder predecir a la variable \"presion\", utilizando como entrada el resto de variables que tenemos."
      ],
      "metadata": {
        "id": "l8vxsT9jlx8a"
      }
    },
    {
      "cell_type": "code",
      "source": [
        "x = train.drop('presion',axis=1)\n",
        "y = train.presion\n",
        "modelo = sm.OLS(y,sm.add_constant(x))\n",
        "results = modelo.fit()\n",
        "print(results.summary())\n",
        "print('\\nLos p-values son los siguientes: \\n', results.pvalues)"
      ],
      "metadata": {
        "colab": {
          "base_uri": "https://localhost:8080/"
        },
        "id": "s-jd3Lsplxr5",
        "outputId": "faa47415-d786-45cc-a275-6e7ababcdbca"
      },
      "execution_count": 43,
      "outputs": [
        {
          "output_type": "stream",
          "name": "stdout",
          "text": [
            "                            OLS Regression Results                            \n",
            "==============================================================================\n",
            "Dep. Variable:                presion   R-squared:                       0.532\n",
            "Model:                            OLS   Adj. R-squared:                  0.530\n",
            "Method:                 Least Squares   F-statistic:                     238.1\n",
            "Date:                Wed, 29 Jan 2025   Prob (F-statistic):          8.47e-170\n",
            "Time:                        15:30:33   Log-Likelihood:                -3113.9\n",
            "No. Observations:                1052   AIC:                             6240.\n",
            "Df Residuals:                    1046   BIC:                             6270.\n",
            "Df Model:                           5                                         \n",
            "Covariance Type:            nonrobust                                         \n",
            "==============================================================================\n",
            "                 coef    std err          t      P>|t|      [0.025      0.975]\n",
            "------------------------------------------------------------------------------\n",
            "const        133.4051      0.635    210.074      0.000     132.159     134.651\n",
            "frecuencia    -0.0013   4.99e-05    -26.325      0.000      -0.001      -0.001\n",
            "angulo        -0.4390      0.045     -9.761      0.000      -0.527      -0.351\n",
            "longitud     -36.2177      1.893    -19.136      0.000     -39.932     -32.504\n",
            "velocidad      0.0947      0.009     10.109      0.000       0.076       0.113\n",
            "espesor     -144.9407     17.512     -8.277      0.000    -179.304    -110.577\n",
            "==============================================================================\n",
            "Omnibus:                        7.940   Durbin-Watson:                   1.944\n",
            "Prob(Omnibus):                  0.019   Jarque-Bera (JB):               10.484\n",
            "Skew:                          -0.061   Prob(JB):                      0.00529\n",
            "Kurtosis:                       3.474   Cond. No.                     5.12e+05\n",
            "==============================================================================\n",
            "\n",
            "Notes:\n",
            "[1] Standard Errors assume that the covariance matrix of the errors is correctly specified.\n",
            "[2] The condition number is large, 5.12e+05. This might indicate that there are\n",
            "strong multicollinearity or other numerical problems.\n",
            "\n",
            "Los p-values son los siguientes: \n",
            " const          0.000000e+00\n",
            "frecuencia    1.346915e-117\n",
            "angulo         1.342467e-21\n",
            "longitud       3.215432e-70\n",
            "velocidad      5.519836e-23\n",
            "espesor        3.834280e-16\n",
            "dtype: float64\n"
          ]
        }
      ]
    },
    {
      "cell_type": "markdown",
      "source": [
        "**4.** En el siguiente bloque, se observaran los datos anteriores, y se haran algunas conclusiones. Al observar los datos estadisticos anteriores, se puede concluir que si existen variables con una relacion significativa a la presion, ya que, si nos fijamos en los p-values de las variables x, nos podemos dar cuenta que todos son mucho menores a 0.05, que es nuestro valor de alpha. Por lo tanto, podemos concluir que todas las variables de entrada tienen una relacion significativa con la salida. Ademas, se puede decir que la variable mas importante del modelo"
      ],
      "metadata": {
        "id": "YFqxJPNEsEzS"
      }
    },
    {
      "cell_type": "code",
      "source": [
        "print('Al observar los datos estadisticos anteriores, se puede concluir que si')\n",
        "print('existen variables con una relacion significativa a la presion, ')\n",
        "print('ya que, si nos fijamos en los p-values de las variables x,')\n",
        "print('nos podemos dar cuenta que todos son mucho menores a 0.05, que es nuestro')\n",
        "print('valor de alpha.')\n",
        "print('Por lo tanto, podemos concluir que todas las variables de entrada')\n",
        "print('tienen una relacion significativa con la salida.')\n",
        "print('Ademas se puede decir que la variable que mas efecto tiene sobre la salida,')\n",
        "print('es la del espesor, ya que cuenta con un coeficiente de 144.94')\n"
      ],
      "metadata": {
        "colab": {
          "base_uri": "https://localhost:8080/"
        },
        "id": "GCUFALz8sEm_",
        "outputId": "9accd30c-6422-4568-cac3-d3904be4430b"
      },
      "execution_count": 44,
      "outputs": [
        {
          "output_type": "stream",
          "name": "stdout",
          "text": [
            " Al observar los datos estadisticos anteriores, se puede concluir que si\n",
            "existen variables con una relacion significativa a la presion, \n",
            "ya que, si nos fijamos en los p-values de las variables x,\n",
            "nos podemos dar cuenta que todos son mucho menores a 0.05, que es nuestro\n",
            "valor de alpha.\n",
            "Por lo tanto, podemos concluir que todas las variables de entrada\n",
            "tienen una relacion significativa con la salida.\n",
            "Ademas se puede decir que la variable que mas efecto tiene sobre la salida,\n",
            "es la del espesor, ya que cuenta con un coeficiente de 144.94\n"
          ]
        }
      ]
    },
    {
      "cell_type": "markdown",
      "source": [
        "**5.** A continuación se calculara el Residual standard error y la R^2 del modelo, tanto para los datos de entranmiento, y para los de validacion."
      ],
      "metadata": {
        "id": "tNhpzJiJ4zK3"
      }
    },
    {
      "cell_type": "code",
      "source": [
        "\n",
        "#RSE y R^2 de datos de entrenamiento\n",
        "y_pred = results.predict(sm.add_constant(x))\n",
        "RSS = sum((y - y_pred)**2)\n",
        "RSE = np.sqrt(RSS/(train.shape[0]-5-1))\n",
        "TSS = sum((y - np.mean(y))**2)\n",
        "r2 = 1 - (RSS/TSS)\n",
        "print('Sobre datos de entrenamiento: ')\n",
        "print('RSE: ', RSE)\n",
        "print('R^2: ', r2)\n",
        "\n",
        "\n",
        "#RSE y R^2 de datos de validacion\n",
        "y_valid = test.presion\n",
        "x_valid = test.drop('presion',axis=1)\n",
        "y_pred = results.predict(sm.add_constant(x_valid))\n",
        "\n",
        "RSS = sum((y_valid - y_pred)**2)\n",
        "RSE = np.sqrt(RSS/(test.shape[0]-5-1))\n",
        "TSS = sum((y_valid - np.mean(y_valid))**2)\n",
        "r2 = 1 - (RSS/TSS)\n",
        "print('\\nSobre datos de validacion: ')\n",
        "print('RSE: ', RSE)\n",
        "print('R^2: ', r2)\n"
      ],
      "metadata": {
        "colab": {
          "base_uri": "https://localhost:8080/"
        },
        "id": "2AsAyNyG4y-2",
        "outputId": "037bd449-4ae9-4602-a49b-fedc3c5f5da1"
      },
      "execution_count": 55,
      "outputs": [
        {
          "output_type": "stream",
          "name": "stdout",
          "text": [
            "Sobre datos de entrenamiento: \n",
            "RSE:  4.683011083762739\n",
            "R^2:  0.532322578809591\n",
            "\n",
            "Sobre datos de validacion: \n",
            "RSE:  5.130467911019307\n",
            "R^2:  0.47779803071540927\n"
          ]
        }
      ]
    },
    {
      "cell_type": "markdown",
      "source": [
        "**6.** Para finalizar, se generara una grafica de disperscion"
      ],
      "metadata": {
        "id": "pj4T5cvc8oJM"
      }
    }
  ]
}